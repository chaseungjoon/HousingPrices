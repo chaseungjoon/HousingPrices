{
 "cells": [
  {
   "cell_type": "code",
   "id": "initial_id",
   "metadata": {
    "collapsed": true,
    "ExecuteTime": {
     "end_time": "2025-06-06T06:46:04.913589Z",
     "start_time": "2025-06-06T06:46:04.540530Z"
    }
   },
   "source": [
    "import pandas as pd\n",
    "import numpy as np\n",
    "from sklearn.model_selection import train_test_split\n",
    "from sklearn.linear_model import LinearRegression\n",
    "from sklearn.ensemble import RandomForestRegressor\n",
    "from sklearn.metrics import mean_squared_error\n",
    "\n",
    "df = pd.read_csv(\"train.csv\")\n",
    "\n",
    "tier1 = [\n",
    "    'OverallQual', 'GrLivArea', 'TotalBsmtSF', 'GarageCars',\n",
    "    'GarageArea', '1stFlrSF', 'YearBuilt', 'FullBath',\n",
    "    'TotRmsAbvGrd', 'Fireplaces', 'MasVnrArea',\n",
    "    'BsmtQual', 'ExterQual', 'KitchenQual'\n",
    "]\n",
    "\n",
    "qual_map = {'Ex': 5, 'Gd': 4, 'TA': 3, 'Fa': 2, 'Po': 1, np.nan: 0}\n",
    "df['BsmtQual'] = df['BsmtQual'].map(qual_map)\n",
    "df['ExterQual'] = df['ExterQual'].map(qual_map)\n",
    "df['KitchenQual'] = df['KitchenQual'].map(qual_map)\n",
    "\n",
    "df_t1 = df[tier1 + ['SalePrice']].dropna()\n",
    "\n",
    "X = df_t1[tier1]\n",
    "y = df_t1['SalePrice']\n",
    "X_train, X_test, y_train, y_test = train_test_split(X, y, random_state=42)\n",
    "\n",
    "models = {\n",
    "    'LinearRegression': LinearRegression(),\n",
    "    'RandomForest': RandomForestRegressor(random_state=42)\n",
    "}\n",
    "\n",
    "for name, model in models.items():\n",
    "    model.fit(X_train, y_train)\n",
    "    preds = model.predict(X_test)\n",
    "    rmse = mean_squared_error(y_test, preds, squared=False)\n",
    "    print(f\"{name} RMSE: {rmse:.2f}\")"
   ],
   "outputs": [
    {
     "name": "stderr",
     "output_type": "stream",
     "text": [
      "/Users/chaseungjun/anaconda3/lib/python3.11/site-packages/sklearn/metrics/_regression.py:483: FutureWarning: 'squared' is deprecated in version 1.4 and will be removed in 1.6. To calculate the root mean squared error, use the function'root_mean_squared_error'.\n",
      "  warnings.warn(\n"
     ]
    },
    {
     "name": "stdout",
     "output_type": "stream",
     "text": [
      "LinearRegression RMSE: 32292.57\n",
      "RandomForest RMSE: 26826.87\n"
     ]
    },
    {
     "name": "stderr",
     "output_type": "stream",
     "text": [
      "/Users/chaseungjun/anaconda3/lib/python3.11/site-packages/sklearn/metrics/_regression.py:483: FutureWarning: 'squared' is deprecated in version 1.4 and will be removed in 1.6. To calculate the root mean squared error, use the function'root_mean_squared_error'.\n",
      "  warnings.warn(\n"
     ]
    }
   ],
   "execution_count": 2
  },
  {
   "metadata": {
    "ExecuteTime": {
     "end_time": "2025-06-06T06:47:08.816030Z",
     "start_time": "2025-06-06T06:47:08.083604Z"
    }
   },
   "cell_type": "code",
   "source": [
    "tier2 = [\n",
    "    'Neighborhood', 'YearRemodAdd', 'Foundation',\n",
    "    'BsmtFinSF1', 'BsmtFinSF2', 'BsmtCond',\n",
    "    'GarageFinish', 'GarageYrBlt', 'MSSubClass',\n",
    "    'HouseStyle', 'LotArea', 'WoodDeckSF',\n",
    "    'OpenPorchSF', 'CentralAir', 'MSZoning'\n",
    "]\n",
    "\n",
    "selected_cols = tier1 + tier2\n",
    "\n",
    "qual_map = {'Ex': 5, 'Gd': 4, 'TA': 3, 'Fa': 2, 'Po': 1, np.nan: 0}\n",
    "bsmtcond_map = {'Ex': 5, 'Gd': 4, 'TA': 3, 'Fa': 2, 'Po': 1, np.nan: 0}\n",
    "garagefinish_map = {'Fin': 3, 'RFn': 2, 'Unf': 1, np.nan: 0}\n",
    "centralair_map = {'Y': 1, 'N': 0}\n",
    "\n",
    "df_copy = df.copy()\n",
    "df_copy['BsmtQual'] = df_copy['BsmtQual'].map(qual_map)\n",
    "df_copy['ExterQual'] = df_copy['ExterQual'].map(qual_map)\n",
    "df_copy['KitchenQual'] = df_copy['KitchenQual'].map(qual_map)\n",
    "df_copy['BsmtCond'] = df_copy['BsmtCond'].map(bsmtcond_map)\n",
    "df_copy['GarageFinish'] = df_copy['GarageFinish'].map(garagefinish_map)\n",
    "df_copy['CentralAir'] = df_copy['CentralAir'].map(centralair_map)\n",
    "\n",
    "cat_cols = ['Neighborhood', 'Foundation', 'HouseStyle', 'MSZoning']\n",
    "df_encoded = pd.get_dummies(df_copy[selected_cols + ['SalePrice']], columns=cat_cols)\n",
    "\n",
    "df_encoded = df_encoded.fillna(0)\n",
    "\n",
    "X = df_encoded.drop('SalePrice', axis=1)\n",
    "y = df_encoded['SalePrice']\n",
    "X_train, X_test, y_train, y_test = train_test_split(X, y, random_state=42)\n",
    "\n",
    "models = {\n",
    "    'LinearRegression': LinearRegression(),\n",
    "    'RandomForest': RandomForestRegressor(random_state=42)\n",
    "}\n",
    "\n",
    "for name, model in models.items():\n",
    "    model.fit(X_train, y_train)\n",
    "    preds = model.predict(X_test)\n",
    "    rmse = mean_squared_error(y_test, preds, squared=False)\n",
    "    print(f\"{name} RMSE (Tier1+2): {rmse:.2f}\")"
   ],
   "id": "17a9bebfa8cbf8e5",
   "outputs": [
    {
     "name": "stderr",
     "output_type": "stream",
     "text": [
      "/Users/chaseungjun/anaconda3/lib/python3.11/site-packages/sklearn/metrics/_regression.py:483: FutureWarning: 'squared' is deprecated in version 1.4 and will be removed in 1.6. To calculate the root mean squared error, use the function'root_mean_squared_error'.\n",
      "  warnings.warn(\n"
     ]
    },
    {
     "name": "stdout",
     "output_type": "stream",
     "text": [
      "LinearRegression RMSE (Tier1+2): 32089.42\n",
      "RandomForest RMSE (Tier1+2): 27002.59\n"
     ]
    },
    {
     "name": "stderr",
     "output_type": "stream",
     "text": [
      "/Users/chaseungjun/anaconda3/lib/python3.11/site-packages/sklearn/metrics/_regression.py:483: FutureWarning: 'squared' is deprecated in version 1.4 and will be removed in 1.6. To calculate the root mean squared error, use the function'root_mean_squared_error'.\n",
      "  warnings.warn(\n"
     ]
    }
   ],
   "execution_count": 4
  },
  {
   "metadata": {
    "ExecuteTime": {
     "end_time": "2025-06-06T06:53:29.597109Z",
     "start_time": "2025-06-06T06:53:28.797229Z"
    }
   },
   "cell_type": "code",
   "source": [
    "import pandas as pd\n",
    "import numpy as np\n",
    "from sklearn.ensemble import RandomForestRegressor\n",
    "from sklearn.model_selection import train_test_split\n",
    "from sklearn.metrics import mean_squared_error\n",
    "\n",
    "train = pd.read_csv(\"train.csv\")\n",
    "test = pd.read_csv(\"test.csv\")\n",
    "submission = pd.read_csv(\"sample_submission.csv\")\n",
    "\n",
    "tier1 = [\n",
    "    'OverallQual', 'GrLivArea', 'TotalBsmtSF', 'GarageCars',\n",
    "    'GarageArea', '1stFlrSF', 'YearBuilt', 'FullBath',\n",
    "    'TotRmsAbvGrd', 'Fireplaces', 'MasVnrArea',\n",
    "    'BsmtQual', 'ExterQual', 'KitchenQual'\n",
    "]\n",
    "\n",
    "tier2 = [\n",
    "    'Neighborhood', 'YearRemodAdd', 'Foundation',\n",
    "    'BsmtFinSF1', 'BsmtFinSF2', 'BsmtCond',\n",
    "    'GarageFinish', 'GarageYrBlt', 'MSSubClass',\n",
    "    'HouseStyle', 'LotArea', 'WoodDeckSF',\n",
    "    'OpenPorchSF', 'CentralAir', 'MSZoning'\n",
    "]\n",
    "\n",
    "tier3 = [\n",
    "    'Street', 'Alley', 'Utilities', 'PoolQC', 'Fence',\n",
    "    'MiscFeature', 'MoSold', 'YrSold', 'Condition2',\n",
    "    'Heating', 'Electrical', 'Functional', 'PavedDrive'\n",
    "]\n",
    "\n",
    "all_features = tier1 + tier2 + tier3\n",
    "\n",
    "qual_map = {'Ex': 5, 'Gd': 4, 'TA': 3, 'Fa': 2, 'Po': 1, np.nan: 0}\n",
    "garagefinish_map = {'Fin': 3, 'RFn': 2, 'Unf': 1, np.nan: 0}\n",
    "centralair_map = {'Y': 1, 'N': 0}\n",
    "\n",
    "def preprocess(df):\n",
    "    df = df.copy()\n",
    "\n",
    "    df['BsmtQual'] = df['BsmtQual'].map(qual_map)\n",
    "    df['ExterQual'] = df['ExterQual'].map(qual_map)\n",
    "    df['KitchenQual'] = df['KitchenQual'].map(qual_map)\n",
    "    df['BsmtCond'] = df['BsmtCond'].map(qual_map)\n",
    "    df['GarageFinish'] = df['GarageFinish'].map(garagefinish_map)\n",
    "    df['CentralAir'] = df['CentralAir'].map(centralair_map)\n",
    "\n",
    "    selected = all_features + ['Id']\n",
    "    df = df[selected]\n",
    "\n",
    "    cat_cols = df.select_dtypes(include='object').columns\n",
    "    df = pd.get_dummies(df, columns=cat_cols)\n",
    "\n",
    "    return df.fillna(0)\n",
    "\n",
    "train_proc = preprocess(train)\n",
    "test_proc = preprocess(test)\n",
    "\n",
    "X = train_proc.drop(\"Id\", axis=1)\n",
    "y = train[\"SalePrice\"]\n",
    "X, test_proc = X.align(test_proc.drop(\"Id\", axis=1), join='left', axis=1, fill_value=0)\n",
    "\n",
    "X_train, X_val, y_train, y_val = train_test_split(X, y, random_state=42)\n",
    "model = RandomForestRegressor(random_state=42)\n",
    "model.fit(X_train, y_train)\n",
    "\n",
    "preds = model.predict(test_proc)\n",
    "submission['SalePrice'] = preds\n",
    "submission.to_csv(\"Submission_TierSystem_LR.csv\", index=False)"
   ],
   "id": "bf63693d127f977",
   "outputs": [],
   "execution_count": 10
  },
  {
   "metadata": {
    "ExecuteTime": {
     "end_time": "2025-06-06T06:55:17.956866Z",
     "start_time": "2025-06-06T06:55:17.951796Z"
    }
   },
   "cell_type": "code",
   "source": "16468.94362",
   "id": "15892b450327bfe",
   "outputs": [
    {
     "data": {
      "text/plain": [
       "16468.94362"
      ]
     },
     "execution_count": 11,
     "metadata": {},
     "output_type": "execute_result"
    }
   ],
   "execution_count": 11
  },
  {
   "metadata": {
    "ExecuteTime": {
     "end_time": "2025-06-06T07:01:19.762871Z",
     "start_time": "2025-06-06T07:01:19.713383Z"
    }
   },
   "cell_type": "code",
   "source": [
    "from sklearn.linear_model import Ridge\n",
    "\n",
    "train = pd.read_csv(\"train.csv\")\n",
    "test = pd.read_csv(\"test.csv\")\n",
    "submission = pd.read_csv(\"sample_submission.csv\")\n",
    "\n",
    "tier1 = [\n",
    "    'OverallQual', 'GrLivArea', 'TotalBsmtSF', 'GarageCars',\n",
    "    'GarageArea', '1stFlrSF', 'YearBuilt', 'FullBath',\n",
    "    'TotRmsAbvGrd', 'Fireplaces', 'MasVnrArea',\n",
    "    'BsmtQual', 'ExterQual', 'KitchenQual'\n",
    "]\n",
    "tier2 = [\n",
    "    'Neighborhood', 'YearRemodAdd', 'Foundation',\n",
    "    'BsmtFinSF1', 'BsmtFinSF2', 'BsmtCond',\n",
    "    'GarageFinish', 'GarageYrBlt', 'MSSubClass',\n",
    "    'HouseStyle', 'LotArea', 'WoodDeckSF',\n",
    "    'OpenPorchSF', 'CentralAir', 'MSZoning'\n",
    "]\n",
    "selected = tier1 + tier2\n",
    "\n",
    "qual_map = {'Ex': 5, 'Gd': 4, 'TA': 3, 'Fa': 2, 'Po': 1, np.nan: 0}\n",
    "garagefinish_map = {'Fin': 3, 'RFn': 2, 'Unf': 1, np.nan: 0}\n",
    "binary_map = {'Y': 1, 'N': 0}\n",
    "\n",
    "def encode(df):\n",
    "    df = df.copy()\n",
    "    df['BsmtQual'] = df['BsmtQual'].map(qual_map)\n",
    "    df['ExterQual'] = df['ExterQual'].map(qual_map)\n",
    "    df['KitchenQual'] = df['KitchenQual'].map(qual_map)\n",
    "    df['BsmtCond'] = df['BsmtCond'].map(qual_map)\n",
    "    df['GarageFinish'] = df['GarageFinish'].map(garagefinish_map)\n",
    "    df['CentralAir'] = df['CentralAir'].map(binary_map)\n",
    "    return df\n",
    "\n",
    "X = encode(train[selected])\n",
    "X_test = encode(test[selected])\n",
    "\n",
    "X = pd.get_dummies(X, drop_first=True)\n",
    "X_test = pd.get_dummies(X_test, drop_first=True)\n",
    "\n",
    "X, X_test = X.align(X_test, join='left', axis=1, fill_value=0)\n",
    "\n",
    "X['GrLivArea_squared'] = X['GrLivArea'] ** 2\n",
    "X['TotalBsmtSF_squared'] = X['TotalBsmtSF'] ** 2\n",
    "X['OverallQual_x_YearBuilt'] = X['OverallQual'] * X['YearBuilt']\n",
    "X['GrLivArea_x_OverallQual'] = X['GrLivArea'] * X['OverallQual']\n",
    "\n",
    "X_test['GrLivArea_squared'] = X_test['GrLivArea'] ** 2\n",
    "X_test['TotalBsmtSF_squared'] = X_test['TotalBsmtSF'] ** 2\n",
    "X_test['OverallQual_x_YearBuilt'] = X_test['OverallQual'] * X_test['YearBuilt']\n",
    "X_test['GrLivArea_x_OverallQual'] = X_test['GrLivArea'] * X_test['OverallQual']\n",
    "\n",
    "X = X.fillna(0)\n",
    "X_test = X_test.fillna(0)\n",
    "\n",
    "y = train['SalePrice']\n",
    "X_train, X_val, y_train, y_val = train_test_split(X, y, random_state=42)\n",
    "model = Ridge(alpha=10)\n",
    "model.fit(X_train, y_train)\n",
    "\n",
    "val_preds = model.predict(X_val)\n",
    "rmse = mean_squared_error(y_val, val_preds, squared=False)\n",
    "print(f\"Ridge Validation RMSE: {rmse:.2f}\")\n",
    "\n",
    "test_preds = model.predict(X_test)\n",
    "submission['SalePrice'] = test_preds\n",
    "submission.to_csv(\"Submission_TierSystem_Ridge.csv\", index=False)"
   ],
   "id": "bbd83120a59326a1",
   "outputs": [
    {
     "name": "stdout",
     "output_type": "stream",
     "text": [
      "Ridge Validation RMSE: 28276.40\n"
     ]
    },
    {
     "name": "stderr",
     "output_type": "stream",
     "text": [
      "/Users/chaseungjun/anaconda3/lib/python3.11/site-packages/sklearn/metrics/_regression.py:483: FutureWarning: 'squared' is deprecated in version 1.4 and will be removed in 1.6. To calculate the root mean squared error, use the function'root_mean_squared_error'.\n",
      "  warnings.warn(\n"
     ]
    }
   ],
   "execution_count": 13
  },
  {
   "metadata": {
    "ExecuteTime": {
     "end_time": "2025-06-06T07:02:08.302886Z",
     "start_time": "2025-06-06T07:02:08.298091Z"
    }
   },
   "cell_type": "code",
   "source": "17625.58894",
   "id": "557b5884844eb960",
   "outputs": [
    {
     "data": {
      "text/plain": [
       "17625.58894"
      ]
     },
     "execution_count": 14,
     "metadata": {},
     "output_type": "execute_result"
    }
   ],
   "execution_count": 14
  },
  {
   "metadata": {
    "ExecuteTime": {
     "end_time": "2025-06-06T07:07:49.079929Z",
     "start_time": "2025-06-06T07:07:48.870015Z"
    }
   },
   "cell_type": "code",
   "source": [
    "import pandas as pd\n",
    "import numpy as np\n",
    "import lightgbm as lgb\n",
    "from sklearn.model_selection import train_test_split\n",
    "from sklearn.metrics import mean_squared_error\n",
    "\n",
    "train = pd.read_csv(\"train.csv\")\n",
    "test = pd.read_csv(\"test.csv\")\n",
    "submission = pd.read_csv(\"sample_submission.csv\")\n",
    "\n",
    "tier1 = [\n",
    "    'OverallQual', 'GrLivArea', 'TotalBsmtSF', 'GarageCars',\n",
    "    'GarageArea', '1stFlrSF', 'YearBuilt', 'FullBath',\n",
    "    'TotRmsAbvGrd', 'Fireplaces', 'MasVnrArea',\n",
    "    'BsmtQual', 'ExterQual', 'KitchenQual'\n",
    "]\n",
    "tier2 = [\n",
    "    'Neighborhood', 'YearRemodAdd', 'Foundation',\n",
    "    'BsmtFinSF1', 'BsmtFinSF2', 'BsmtCond',\n",
    "    'GarageFinish', 'GarageYrBlt', 'MSSubClass',\n",
    "    'HouseStyle', 'LotArea', 'WoodDeckSF',\n",
    "    'OpenPorchSF', 'CentralAir', 'MSZoning'\n",
    "]\n",
    "selected = tier1 + tier2\n",
    "\n",
    "qual_map = {'Ex': 5, 'Gd': 4, 'TA': 3, 'Fa': 2, 'Po': 1, np.nan: 0}\n",
    "garagefinish_map = {'Fin': 3, 'RFn': 2, 'Unf': 1, np.nan: 0}\n",
    "binary_map = {'Y': 1, 'N': 0}\n",
    "\n",
    "def encode(df):\n",
    "    df = df.copy()\n",
    "    df['BsmtQual'] = df['BsmtQual'].map(qual_map)\n",
    "    df['ExterQual'] = df['ExterQual'].map(qual_map)\n",
    "    df['KitchenQual'] = df['KitchenQual'].map(qual_map)\n",
    "    df['BsmtCond'] = df['BsmtCond'].map(qual_map)\n",
    "    df['GarageFinish'] = df['GarageFinish'].map(garagefinish_map)\n",
    "    df['CentralAir'] = df['CentralAir'].map(binary_map)\n",
    "    return df\n",
    "\n",
    "X = encode(train[selected])\n",
    "X_test = encode(test[selected])\n",
    "X = pd.get_dummies(X, drop_first=True)\n",
    "X_test = pd.get_dummies(X_test, drop_first=True)\n",
    "X, X_test = X.align(X_test, join='left', axis=1, fill_value=0)\n",
    "\n",
    "X = X.fillna(0)\n",
    "X_test = X_test.fillna(0)\n",
    "y = train['SalePrice']\n",
    "\n",
    "X_train, X_val, y_train, y_val = train_test_split(X, y, test_size=0.2, random_state=42)\n",
    "\n",
    "lgb_train = lgb.Dataset(X_train, y_train)\n",
    "lgb_val = lgb.Dataset(X_val, y_val)\n",
    "\n",
    "params = {\n",
    "    'objective': 'regression',\n",
    "    'metric': 'rmse',\n",
    "    'learning_rate': 0.05,\n",
    "    'num_leaves': 31,\n",
    "    'verbosity': -1,\n",
    "    'seed': 42\n",
    "}\n",
    "\n",
    "callbacks = [lgb.early_stopping(stopping_rounds=50, verbose=False)]\n",
    "\n",
    "model = lgb.train(\n",
    "    params,\n",
    "    lgb_train,\n",
    "    num_boost_round=1000,\n",
    "    valid_sets=[lgb_val],\n",
    "    callbacks=callbacks\n",
    ")\n",
    "\n",
    "val_preds = model.predict(X_val, num_iteration=model.best_iteration)\n",
    "rmse = mean_squared_error(y_val, val_preds, squared=False)\n",
    "print(f\"LightGBM RMSE: {rmse:.2f}\")\n",
    "\n",
    "test_preds = model.predict(X_test, num_iteration=model.best_iteration)\n",
    "submission['SalePrice'] = test_preds\n",
    "submission.to_csv(\"Submission_TierSystem_LGBM.csv\", index=False)"
   ],
   "id": "c174b794fa8cce21",
   "outputs": [
    {
     "name": "stdout",
     "output_type": "stream",
     "text": [
      "LightGBM RMSE: 30213.39\n"
     ]
    },
    {
     "name": "stderr",
     "output_type": "stream",
     "text": [
      "/Users/chaseungjun/anaconda3/lib/python3.11/site-packages/sklearn/metrics/_regression.py:483: FutureWarning: 'squared' is deprecated in version 1.4 and will be removed in 1.6. To calculate the root mean squared error, use the function'root_mean_squared_error'.\n",
      "  warnings.warn(\n"
     ]
    }
   ],
   "execution_count": 17
  },
  {
   "metadata": {
    "ExecuteTime": {
     "end_time": "2025-06-06T07:08:39.277510Z",
     "start_time": "2025-06-06T07:08:39.274057Z"
    }
   },
   "cell_type": "code",
   "source": "16183.21670",
   "id": "e37544918703426",
   "outputs": [
    {
     "data": {
      "text/plain": [
       "16183.2167"
      ]
     },
     "execution_count": 18,
     "metadata": {},
     "output_type": "execute_result"
    }
   ],
   "execution_count": 18
  },
  {
   "metadata": {},
   "cell_type": "code",
   "outputs": [],
   "execution_count": null,
   "source": "",
   "id": "38d647a7d7aaf8a"
  }
 ],
 "metadata": {
  "kernelspec": {
   "display_name": "Python 3",
   "language": "python",
   "name": "python3"
  },
  "language_info": {
   "codemirror_mode": {
    "name": "ipython",
    "version": 2
   },
   "file_extension": ".py",
   "mimetype": "text/x-python",
   "name": "python",
   "nbconvert_exporter": "python",
   "pygments_lexer": "ipython2",
   "version": "2.7.6"
  }
 },
 "nbformat": 4,
 "nbformat_minor": 5
}
