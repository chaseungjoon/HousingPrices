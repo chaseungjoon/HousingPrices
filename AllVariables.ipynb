{
 "cells": [
  {
   "cell_type": "code",
   "id": "initial_id",
   "metadata": {
    "collapsed": true,
    "ExecuteTime": {
     "end_time": "2025-06-06T06:57:00.711677Z",
     "start_time": "2025-06-06T06:56:57.483778Z"
    }
   },
   "source": [
    "import pandas as pd\n",
    "import numpy as np\n",
    "from sklearn.ensemble import RandomForestRegressor\n",
    "from sklearn.model_selection import train_test_split\n",
    "from sklearn.metrics import mean_squared_error\n",
    "\n",
    "train = pd.read_csv(\"train.csv\")\n",
    "test = pd.read_csv(\"test.csv\")\n",
    "submission = pd.read_csv(\"sample_submission.csv\")\n",
    "\n",
    "def preprocess_all(df, is_train=True):\n",
    "    df = df.copy()\n",
    "    if is_train:\n",
    "        df = df.drop(['SalePrice'], axis=1)\n",
    "    df = df.drop(['Id'], axis=1)\n",
    "\n",
    "    qual_map = {'Ex': 5, 'Gd': 4, 'TA': 3, 'Fa': 2, 'Po': 1, np.nan: 0}\n",
    "    bsmtfin_map = {'GLQ': 6, 'ALQ': 5, 'BLQ': 4, 'Rec': 3, 'LwQ': 2, 'Unf': 1, 'NA': 0}\n",
    "    bsmtexp_map = {'Gd': 4, 'Av': 3, 'Mn': 2, 'No': 1, 'NA': 0}\n",
    "    garagefinish_map = {'Fin': 3, 'RFn': 2, 'Unf': 1, np.nan: 0}\n",
    "    binary_map = {'Y': 1, 'N': 0}\n",
    "\n",
    "    for col in ['BsmtQual', 'ExterQual', 'KitchenQual', 'BsmtCond', 'GarageQual', 'GarageCond']:\n",
    "        df[col] = df[col].map(qual_map)\n",
    "\n",
    "    df['BsmtExposure'] = df['BsmtExposure'].map(bsmtexp_map)\n",
    "    df['BsmtFinType1'] = df['BsmtFinType1'].map(bsmtfin_map)\n",
    "    df['BsmtFinType2'] = df['BsmtFinType2'].map(bsmtfin_map)\n",
    "    df['GarageFinish'] = df['GarageFinish'].map(garagefinish_map)\n",
    "    df['CentralAir'] = df['CentralAir'].map(binary_map)\n",
    "\n",
    "    df = pd.get_dummies(df, drop_first=True)\n",
    "\n",
    "    return df.fillna(0)\n",
    "\n",
    "X = preprocess_all(train)\n",
    "y = train['SalePrice']\n",
    "X_test = preprocess_all(test, is_train=False)\n",
    "\n",
    "X, X_test = X.align(X_test, join='left', axis=1, fill_value=0)\n",
    "\n",
    "X_train, X_val, y_train, y_val = train_test_split(X, y, random_state=42)\n",
    "model = RandomForestRegressor(n_estimators=200, random_state=42)\n",
    "model.fit(X_train, y_train)\n",
    "\n",
    "val_preds = model.predict(X_val)\n",
    "rmse = mean_squared_error(y_val, val_preds, squared=False)\n",
    "print(f\"Validation RMSE: {rmse:.2f}\")\n",
    "\n",
    "test_preds = model.predict(X_test)\n",
    "submission['SalePrice'] = test_preds\n",
    "submission.to_csv(\"Submission_AllVariables_Tree.csv\", index=False)"
   ],
   "outputs": [
    {
     "name": "stdout",
     "output_type": "stream",
     "text": [
      "Validation RMSE: 27278.26\n"
     ]
    },
    {
     "name": "stderr",
     "output_type": "stream",
     "text": [
      "/Users/chaseungjun/anaconda3/lib/python3.11/site-packages/sklearn/metrics/_regression.py:483: FutureWarning: 'squared' is deprecated in version 1.4 and will be removed in 1.6. To calculate the root mean squared error, use the function'root_mean_squared_error'.\n",
      "  warnings.warn(\n"
     ]
    }
   ],
   "execution_count": 1
  },
  {
   "metadata": {
    "ExecuteTime": {
     "end_time": "2025-06-06T06:58:15.469966Z",
     "start_time": "2025-06-06T06:58:15.464276Z"
    }
   },
   "cell_type": "code",
   "source": "16516.02754",
   "id": "5a34a0f6160894bc",
   "outputs": [
    {
     "data": {
      "text/plain": [
       "16516.02754"
      ]
     },
     "execution_count": 2,
     "metadata": {},
     "output_type": "execute_result"
    }
   ],
   "execution_count": 2
  },
  {
   "metadata": {},
   "cell_type": "code",
   "outputs": [],
   "execution_count": null,
   "source": "",
   "id": "1ccc42ea738063"
  }
 ],
 "metadata": {
  "kernelspec": {
   "display_name": "Python 3",
   "language": "python",
   "name": "python3"
  },
  "language_info": {
   "codemirror_mode": {
    "name": "ipython",
    "version": 2
   },
   "file_extension": ".py",
   "mimetype": "text/x-python",
   "name": "python",
   "nbconvert_exporter": "python",
   "pygments_lexer": "ipython2",
   "version": "2.7.6"
  }
 },
 "nbformat": 4,
 "nbformat_minor": 5
}
